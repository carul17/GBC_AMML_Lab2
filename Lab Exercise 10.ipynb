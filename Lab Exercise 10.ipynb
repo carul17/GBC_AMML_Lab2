{
 "cells": [
  {
   "cell_type": "markdown",
   "metadata": {},
   "source": [
    "<p style=\"font-family: Arial; font-size:3em;color:black;\"> Lab Exercise 10</p>\n",
    "\n",
    "## Matrix Factorization with Missing Values\n",
    "\n",
    "In this exercise, we'll:\n",
    "1. Start with a complete matrix\n",
    "2. Remove some values (set to NaN)\n",
    "3. Use matrix factorization to predict the missing values\n",
    "4. Find the optimal K value (number of latent features) that gives the best predictions\n",
    "\n",
    "Since we know the original values, we can measure how well our predictions match reality."
   ]
  },
  {
   "cell_type": "code",
   "execution_count": 1,
   "metadata": {},
   "outputs": [],
   "source": [
    "import pandas as pd\n",
    "import numpy as np\n",
    "import matplotlib.pyplot as plt\n",
    "np.random.seed(5)  # creating pseudo-random numbers for reproducibility"
   ]
  },
  {
   "cell_type": "code",
   "execution_count": 2,
   "metadata": {},
   "outputs": [
    {
     "name": "stdout",
     "output_type": "stream",
     "text": [
      "     0    1    2    3    4    5    6\n",
      "0  4.0  2.0  4.0  5.0  4.0  2.0  2.0\n",
      "1  4.0  4.0  3.0  2.0  2.0  5.0  4.0\n",
      "2  4.0  1.0  4.0  7.0  3.0  6.0  2.0\n",
      "3  8.0  1.0  2.0  0.0  5.0  0.0  7.0\n",
      "4  4.0  5.0  8.0  7.0  6.0  2.0  3.0\n"
     ]
    }
   ],
   "source": [
    "# Let's consider the following A_orig matrix:\n",
    "\n",
    "A_orig = np.array([[4, 2, 4, 5, 4, 2, 2], [4, 4, 3, 2, 2, 5, 4], [4, 1, 4, 7, 3, 6, 2], [8 ,1, 2, 0, 5, 0, 7], [4 , 5, 8, 7, 6, 2, 3]],dtype=float)\n",
    "M, N = 5, 7\n",
    "print (pd.DataFrame(A_orig).head())"
   ]
  },
  {
   "cell_type": "code",
   "execution_count": 3,
   "metadata": {},
   "outputs": [
    {
     "ename": "AttributeError",
     "evalue": "`np.NaN` was removed in the NumPy 2.0 release. Use `np.nan` instead.",
     "output_type": "error",
     "traceback": [
      "\u001b[0;31m---------------------------------------------------------------------------\u001b[0m",
      "\u001b[0;31mAttributeError\u001b[0m                            Traceback (most recent call last)",
      "Cell \u001b[0;32mIn[3], line 4\u001b[0m\n\u001b[1;32m      1\u001b[0m \u001b[38;5;66;03m# Let's add some NaN(s) to  A_orig matrix\u001b[39;00m\n\u001b[1;32m      3\u001b[0m A \u001b[38;5;241m=\u001b[39m A_orig\u001b[38;5;241m.\u001b[39mcopy()\n\u001b[0;32m----> 4\u001b[0m A[\u001b[38;5;241m3\u001b[39m][\u001b[38;5;241m1\u001b[39m] \u001b[38;5;241m=\u001b[39m \u001b[43mnp\u001b[49m\u001b[38;5;241;43m.\u001b[39;49m\u001b[43mNaN\u001b[49m\n\u001b[1;32m      5\u001b[0m A[\u001b[38;5;241m4\u001b[39m][\u001b[38;5;241m6\u001b[39m] \u001b[38;5;241m=\u001b[39m np\u001b[38;5;241m.\u001b[39mNaN\n\u001b[1;32m      7\u001b[0m A_df \u001b[38;5;241m=\u001b[39m pd\u001b[38;5;241m.\u001b[39mDataFrame(A)\n",
      "File \u001b[0;32m~/Documents/George Brown Courses/AppliedMathML/Lab2/.venv/lib/python3.13/site-packages/numpy/__init__.py:400\u001b[0m, in \u001b[0;36m__getattr__\u001b[0;34m(attr)\u001b[0m\n\u001b[1;32m    397\u001b[0m     \u001b[38;5;28;01mraise\u001b[39;00m \u001b[38;5;167;01mAttributeError\u001b[39;00m(__former_attrs__[attr], name\u001b[38;5;241m=\u001b[39m\u001b[38;5;28;01mNone\u001b[39;00m)\n\u001b[1;32m    399\u001b[0m \u001b[38;5;28;01mif\u001b[39;00m attr \u001b[38;5;129;01min\u001b[39;00m __expired_attributes__:\n\u001b[0;32m--> 400\u001b[0m     \u001b[38;5;28;01mraise\u001b[39;00m \u001b[38;5;167;01mAttributeError\u001b[39;00m(\n\u001b[1;32m    401\u001b[0m         \u001b[38;5;124mf\u001b[39m\u001b[38;5;124m\"\u001b[39m\u001b[38;5;124m`np.\u001b[39m\u001b[38;5;132;01m{\u001b[39;00mattr\u001b[38;5;132;01m}\u001b[39;00m\u001b[38;5;124m` was removed in the NumPy 2.0 release. \u001b[39m\u001b[38;5;124m\"\u001b[39m\n\u001b[1;32m    402\u001b[0m         \u001b[38;5;124mf\u001b[39m\u001b[38;5;124m\"\u001b[39m\u001b[38;5;132;01m{\u001b[39;00m__expired_attributes__[attr]\u001b[38;5;132;01m}\u001b[39;00m\u001b[38;5;124m\"\u001b[39m,\n\u001b[1;32m    403\u001b[0m         name\u001b[38;5;241m=\u001b[39m\u001b[38;5;28;01mNone\u001b[39;00m\n\u001b[1;32m    404\u001b[0m     )\n\u001b[1;32m    406\u001b[0m \u001b[38;5;28;01mif\u001b[39;00m attr \u001b[38;5;241m==\u001b[39m \u001b[38;5;124m\"\u001b[39m\u001b[38;5;124mchararray\u001b[39m\u001b[38;5;124m\"\u001b[39m:\n\u001b[1;32m    407\u001b[0m     warnings\u001b[38;5;241m.\u001b[39mwarn(\n\u001b[1;32m    408\u001b[0m         \u001b[38;5;124m\"\u001b[39m\u001b[38;5;124m`np.chararray` is deprecated and will be removed from \u001b[39m\u001b[38;5;124m\"\u001b[39m\n\u001b[1;32m    409\u001b[0m         \u001b[38;5;124m\"\u001b[39m\u001b[38;5;124mthe main namespace in the future. Use an array with a string \u001b[39m\u001b[38;5;124m\"\u001b[39m\n\u001b[1;32m    410\u001b[0m         \u001b[38;5;124m\"\u001b[39m\u001b[38;5;124mor bytes dtype instead.\u001b[39m\u001b[38;5;124m\"\u001b[39m, \u001b[38;5;167;01mDeprecationWarning\u001b[39;00m, stacklevel\u001b[38;5;241m=\u001b[39m\u001b[38;5;241m2\u001b[39m)\n",
      "\u001b[0;31mAttributeError\u001b[0m: `np.NaN` was removed in the NumPy 2.0 release. Use `np.nan` instead."
     ]
    }
   ],
   "source": [
    "# Let's add some NaN(s) to  A_orig matrix\n",
    "\n",
    "A = A_orig.copy()\n",
    "A[3][1] = np.nan\n",
    "A[4][6] = np.nan\n",
    "\n",
    "A_df = pd.DataFrame(A)\n",
    "print (A_df.head())"
   ]
  },
  {
   "cell_type": "code",
   "execution_count": 4,
   "metadata": {},
   "outputs": [],
   "source": [
    "# Fine tune K value such that the (average percentage) error for the 2 missing elements is minimum.\n",
    "# Remember: this is an exercise where we have the actual values for missing elements. \n",
    "# In real-life scenarios missins elements are not known and you may need different metric(s)\n",
    "# to assess the quality of your reconstructed matrix.\n",
    "K = 1\n",
    "P = np.abs(np.random.uniform(low=0, high=8, size=(M, K)))\n",
    "Q = np.abs(np.random.uniform(low=0, high=8, size=(K, N)))\n",
    "P = np.divide(P, K*P.max())\n",
    "Q = np.divide(Q, K*Q.max())"
   ]
  },
  {
   "cell_type": "code",
   "execution_count": 5,
   "metadata": {},
   "outputs": [],
   "source": [
    "def matrix_factorization(Rating_Matrix, P, Q, K, steps, alpha=0.001, beta=0.02):\n",
    "    Q = Q.T\n",
    "    for step in range(steps):\n",
    "        for i in range(len(Rating_Matrix)):\n",
    "            for j in range(len(Rating_Matrix[i])):\n",
    "                if ~np.isnan(Rating_Matrix[i][j]):\n",
    "                    eij = Rating_Matrix[i][j] - np.dot(P[i,:],Q[:,j])\n",
    "                    for k in range(K):\n",
    "                        P[i][k] = P[i][k] + alpha * (2 * eij * Q[k][j] - beta * P[i][k])\n",
    "                        Q[k][j] = Q[k][j] + alpha * (2 * eij * P[i][k] - beta * Q[k][j])\n",
    "        eRating_Matrix = np.dot(P,Q)\n",
    "        e = 0\n",
    "        for i in range(len(Rating_Matrix)):\n",
    "            for j in range(len(Rating_Matrix[i])):\n",
    "                if ~np.isnan(Rating_Matrix[i][j]):\n",
    "                    e = e + pow(Rating_Matrix[i][j] - np.dot(P[i,:],Q[:,j]), 2)\n",
    "                    for k in range(K):\n",
    "                        e = e + (beta/2) * (pow(P[i][k],2) + pow(Q[k][j],2))\n",
    "        print(\"Total error at step\", step, \"is\", e)\n",
    "        if e < 0.0001:\n",
    "            break\n",
    "    return P, Q.T"
   ]
  },
  {
   "cell_type": "code",
   "execution_count": 4,
   "metadata": {},
   "outputs": [
    {
     "ename": "NameError",
     "evalue": "name 'matrix_factorization' is not defined",
     "output_type": "error",
     "traceback": [
      "\u001b[0;31m---------------------------------------------------------------------------\u001b[0m",
      "\u001b[0;31mNameError\u001b[0m                                 Traceback (most recent call last)",
      "Cell \u001b[0;32mIn[4], line 1\u001b[0m\n\u001b[0;32m----> 1\u001b[0m eP, eQ \u001b[38;5;241m=\u001b[39m \u001b[43mmatrix_factorization\u001b[49m(A, P, Q\u001b[38;5;241m.\u001b[39mT, K, steps \u001b[38;5;241m=\u001b[39m \u001b[38;5;241m1000\u001b[39m)\n\u001b[1;32m      2\u001b[0m eA \u001b[38;5;241m=\u001b[39m np\u001b[38;5;241m.\u001b[39mmatmul(eP, eQ\u001b[38;5;241m.\u001b[39mT)\n\u001b[1;32m      4\u001b[0m \u001b[38;5;28mprint\u001b[39m(A,\u001b[38;5;124m'\u001b[39m\u001b[38;5;130;01m\\n\u001b[39;00m\u001b[38;5;124m'\u001b[39m)\n",
      "\u001b[0;31mNameError\u001b[0m: name 'matrix_factorization' is not defined"
     ]
    }
   ],
   "source": [
    "eP, eQ = matrix_factorization(A, P, Q.T, K, steps = 1000)\n",
    "eA = np.matmul(eP, eQ.T)\n",
    "\n",
    "print(A,'\\n')\n",
    "print(eA)"
   ]
  },
  {
   "cell_type": "markdown",
   "metadata": {},
   "source": [
    "## Finding the Optimal K Value\n",
    "\n",
    "Now let's try different K values to see which gives us the best predictions for our missing values.\n",
    "We'll:\n",
    "- Try K values from 1 to 10\n",
    "- Run each K value multiple times (due to random initialization)\n",
    "- Calculate the average percentage error for the missing values\n",
    "- Find which K gives us the most accurate predictions"
   ]
  },
  {
   "cell_type": "code",
   "execution_count": null,
   "metadata": {},
   "outputs": [],
   "source": [
    "def try_different_k(num_trials=5):\n",
    "    # Original values we're trying to predict\n",
    "    true_values = {(3,1): 1, (4,6): 3}\n",
    "    \n",
    "    # Store results for each K\n",
    "    k_results = {}\n",
    "    \n",
    "    # Try different K values\n",
    "    for k in range(1, 11):  # Try K from 1 to 10\n",
    "        k_errors = []\n",
    "        \n",
    "        # Multiple trials for each K to account for random initialization\n",
    "        for trial in range(num_trials):\n",
    "            # Initialize matrices with current K\n",
    "            P = np.abs(np.random.uniform(low=0, high=8, size=(M, k)))\n",
    "            Q = np.abs(np.random.uniform(low=0, high=8, size=(k, N)))\n",
    "            P = np.divide(P, k*P.max())\n",
    "            Q = np.divide(Q, k*Q.max())\n",
    "            \n",
    "            # Run matrix factorization\n",
    "            eP, eQ = matrix_factorization(A, P, Q.T, k, steps=1000)\n",
    "            eA = np.matmul(eP, eQ.T)\n",
    "            \n",
    "            # Calculate error for missing values\n",
    "            error = 0\n",
    "            for (i,j), true_val in true_values.items():\n",
    "                predicted = eA[i][j]\n",
    "                error += abs(predicted - true_val) / true_val  # percentage error\n",
    "                \n",
    "            avg_error = error / len(true_values)\n",
    "            k_errors.append(avg_error)\n",
    "        \n",
    "        # Store average error across trials for this K\n",
    "        k_results[k] = np.mean(k_errors)\n",
    "        print(f\"K={k}, Average Error across {num_trials} trials: {k_results[k]:.4f}\")\n",
    "    \n",
    "    # Find best K\n",
    "    best_k = min(k_results.items(), key=lambda x: x[1])\n",
    "    print(f\"\\nBest K value: {best_k[0]} with average error: {best_k[1]:.4f}\")\n",
    "    \n",
    "    # Plot results\n",
    "    plt.figure(figsize=(10, 6))\n",
    "    plt.plot(list(k_results.keys()), list(k_results.values()), 'bo-')\n",
    "    plt.xlabel('K Value')\n",
    "    plt.ylabel('Average Error')\n",
    "    plt.title('Error vs K Value in Matrix Factorization')\n",
    "    plt.grid(True)\n",
    "    plt.show()\n",
    "\n",
    "# Set random seed for reproducibility\n",
    "np.random.seed(42)\n",
    "\n",
    "# Run the optimization with 5 trials per K value\n",
    "try_different_k(num_trials=5)"
   ]
  },
  {
   "cell_type": "markdown",
   "metadata": {},
   "source": [
    "## Analysis\n",
    "\n",
    "The graph above shows how the prediction error varies with different K values. \n",
    "- Lower K values might underfit (too simple to capture the patterns)\n",
    "- Higher K values might overfit (too complex, fitting noise)\n",
    "- The best K value balances these concerns\n",
    "\n",
    "We can use this optimal K value for our final matrix factorization."
   ]
  }
 ],
 "metadata": {
  "kernelspec": {
   "display_name": ".venv",
   "language": "python",
   "name": "python3"
  },
  "language_info": {
   "codemirror_mode": {
    "name": "ipython",
    "version": 3
   },
   "file_extension": ".py",
   "mimetype": "text/x-python",
   "name": "python",
   "nbconvert_exporter": "python",
   "pygments_lexer": "ipython3",
   "version": "3.13.1"
  }
 },
 "nbformat": 4,
 "nbformat_minor": 1
}
