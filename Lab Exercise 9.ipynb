{
 "cells": [
  {
   "cell_type": "markdown",
   "metadata": {},
   "source": [
    "<p style=\"font-family: Arial; font-size:3em;color:black;\"> Lab Exercise 9</p>"
   ]
  },
  {
   "cell_type": "code",
   "execution_count": null,
   "metadata": {},
   "outputs": [],
   "source": [
    "# For this example, we will use K-Means Clustering Project database from Kaggle (https://www.kaggle.com/faressayah/k-means-clustering-private-vs-public-universities)\n",
    "# We actually have the labels for this data set, but we will NOT use them for the KMeans clustering algorithm, since that is an unsupervised learning algorithm.\n",
    "# As we will shortly see, we have a data frame with 777 observations on 18 variables.\n",
    "\n",
    "import pandas as pd\n",
    "import numpy as np\n",
    "import matplotlib.pyplot as plt\n",
    "%matplotlib inline"
   ]
  },
  {
   "cell_type": "code",
   "execution_count": null,
   "metadata": {},
   "outputs": [],
   "source": [
    "df = pd.read_csv('College_Data',index_col=0)\n",
    "df.columns"
   ]
  },
  {
   "cell_type": "code",
   "execution_count": null,
   "metadata": {},
   "outputs": [],
   "source": [
    "df['Grad.Rate']['Cazenovia College'] = 100\n",
    "\n",
    "# Standardize the features\n",
    "from sklearn.preprocessing import StandardScaler\n",
    "from sklearn.cluster import KMeans\n",
    "from sklearn.metrics import silhouette_score\n",
    "\n",
    "# Function to perform clustering and evaluate\n",
    "def evaluate_kmeans(data, features):\n",
    "    X = data[features]\n",
    "    scaler = StandardScaler()\n",
    "    X_scaled = scaler.fit_transform(X)\n",
    "    \n",
    "    kmeans = KMeans(n_clusters=2, random_state=42)\n",
    "    clusters = kmeans.fit_predict(X_scaled)\n",
    "    score = silhouette_score(X_scaled, clusters)\n",
    "    return score\n",
    "\n",
    "# Base features\n",
    "features = ['Apps', 'Accept', 'Enroll', 'Top10perc', 'Top25perc', 'F.Undergrad', \n",
    "           'P.Undergrad', 'Outstate', 'Room.Board', 'Books', 'Personal', 'PhD', \n",
    "           'Terminal', 'S.F.Ratio', 'perc.alumni', 'Expend', 'Grad.Rate']\n",
    "\n",
    "# Test different feature combinations\n",
    "print(\"Baseline (all features):\", evaluate_kmeans(df, features))\n",
    "\n",
    "# Case 1: Remove enrollment related features\n",
    "features1 = [f for f in features if f not in ['Enroll', 'F.Undergrad', 'P.Undergrad']]\n",
    "print(\"\\nCase 1 - Without enrollment features:\", evaluate_kmeans(df, features1))\n",
    "\n",
    "# Case 2: Only academic features\n",
    "features2 = ['Top10perc', 'Top25perc', 'PhD', 'Terminal', 'S.F.Ratio', 'Grad.Rate']\n",
    "print(\"\\nCase 2 - Only academic features:\", evaluate_kmeans(df, features2))\n",
    "\n",
    "# Case 3: Only financial features\n",
    "features3 = ['Outstate', 'Room.Board', 'Books', 'Personal', 'Expend']\n",
    "print(\"\\nCase 3 - Only financial features:\", evaluate_kmeans(df, features3))\n",
    "\n",
    "# Case 4: Without cost features\n",
    "features4 = [f for f in features if f not in ['Outstate', 'Room.Board', 'Books', 'Personal']]\n",
    "print(\"\\nCase 4 - Without cost features:\", evaluate_kmeans(df, features4))\n",
    "\n",
    "# Case 5: Only admission features\n",
    "features5 = ['Apps', 'Accept', 'Top10perc', 'Top25perc']\n",
    "print(\"\\nCase 5 - Only admission features:\", evaluate_kmeans(df, features5))\n",
    "\n",
    "# Case 6: Without faculty features\n",
    "features6 = [f for f in features if f not in ['PhD', 'Terminal', 'S.F.Ratio']]\n",
    "print(\"\\nCase 6 - Without faculty features:\", evaluate_kmeans(df, features6))\n",
    "\n",
    "# Case 7: Only performance indicators\n",
    "features7 = ['Top10perc', 'Top25perc', 'Grad.Rate', 'perc.alumni']\n",
    "print(\"\\nCase 7 - Only performance indicators:\", evaluate_kmeans(df, features7))\n",
    "\n",
    "# Case 8: Without application features\n",
    "features8 = [f for f in features if f not in ['Apps', 'Accept']]\n",
    "print(\"\\nCase 8 - Without application features:\", evaluate_kmeans(df, features8))\n",
    "\n",
    "# Case 9: Core features only\n",
    "features9 = ['Top10perc', 'Outstate', 'PhD', 'S.F.Ratio', 'Grad.Rate']\n",
    "print(\"\\nCase 9 - Core features only:\", evaluate_kmeans(df, features9))\n",
    "\n",
    "# Case 10: Minimal feature set\n",
    "features10 = ['Top25perc', 'Outstate', 'Grad.Rate']\n",
    "print(\"\\nCase 10 - Minimal feature set:\", evaluate_kmeans(df, features10))"
   ]
  }
 ],
 "metadata": {
  "kernelspec": {
   "display_name": "Python 3 (ipykernel)",
   "language": "python",
   "name": "python3"
  },
  "language_info": {
   "codemirror_mode": {
    "name": "ipython",
    "version": 3
   },
   "file_extension": ".py",
   "mimetype": "text/x-python",
   "name": "python",
   "nbconvert_exporter": "python",
   "pygments_lexer": "ipython3",
   "version": "3.9.7"
  }
 },
 "nbformat": 4,
 "nbformat_minor": 1
}
