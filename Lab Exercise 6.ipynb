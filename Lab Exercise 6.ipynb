{
 "cells": [
  {
   "cell_type": "markdown",
   "metadata": {},
   "source": [
    "<p style=\"font-family: Arial; font-size:3em;color:black;\"> Lab Exercise 6</p>"
   ]
  },
  {
   "cell_type": "code",
   "execution_count": 1,
   "metadata": {},
   "outputs": [],
   "source": [
    "# you can download the original Kyphosis dataset from kaggle at https://www.kaggle.com/abbasit/kyphosis-dataset?select=kyphosis.csv\n",
    "\n",
    "import pandas as pd\n",
    "import numpy as np\n",
    "import matplotlib.pyplot as plt\n",
    "%matplotlib inline"
   ]
  },
  {
   "cell_type": "code",
   "execution_count": 2,
   "metadata": {},
   "outputs": [],
   "source": [
    "Kyphosis_df = pd.read_csv('kyphosis.csv')"
   ]
  },
  {
   "cell_type": "code",
   "execution_count": 3,
   "metadata": {},
   "outputs": [],
   "source": [
    "from sklearn.model_selection import train_test_split"
   ]
  },
  {
   "cell_type": "code",
   "execution_count": 4,
   "metadata": {},
   "outputs": [],
   "source": [
    "X = Kyphosis_df.drop('Kyphosis',axis=1)\n",
    "y = Kyphosis_df['Kyphosis']"
   ]
  },
  {
   "cell_type": "code",
   "execution_count": 5,
   "metadata": {},
   "outputs": [],
   "source": [
    "X_train, X_test, y_train, y_test = train_test_split(X, y, test_size=0.30)"
   ]
  },
  {
   "cell_type": "code",
   "execution_count": 6,
   "metadata": {},
   "outputs": [],
   "source": [
    "from sklearn.tree import DecisionTreeClassifier"
   ]
  },
  {
   "cell_type": "code",
   "execution_count": 7,
   "metadata": {},
   "outputs": [
    {
     "data": {
      "text/plain": [
       "\"\\nDecisionTreeClassifier(\\n    criterion='gini',\\n    splitter='best',\\n    max_depth=None,\\n    min_samples_split=2,\\n    min_samples_leaf=1,\\n    min_weight_fraction_leaf=0.0,\\n    max_features=None,\\n    random_state=None,\\n    max_leaf_nodes=None,\\n    min_impurity_decrease=0.0,\\n    min_impurity_split=None,\\n    class_weight=None,\\n    presort=False,\\n)\\n\""
      ]
     },
     "execution_count": 7,
     "metadata": {},
     "output_type": "execute_result"
    }
   ],
   "source": [
    "# selecting the right \"parameters/hyperparameters of ML models can significantly affect their performacnce\".\n",
    "# let's begin exploring those parameters more for a DT model.\n",
    "'''\n",
    "DecisionTreeClassifier(\n",
    "    criterion='gini',\n",
    "    splitter='best',\n",
    "    max_depth=None,\n",
    "    min_samples_split=2,\n",
    "    min_samples_leaf=1,\n",
    "    min_weight_fraction_leaf=0.0,\n",
    "    max_features=None,\n",
    "    random_state=None,\n",
    "    max_leaf_nodes=None,\n",
    "    min_impurity_decrease=0.0,\n",
    "    min_impurity_split=None,\n",
    "    class_weight=None,\n",
    "    presort=False,\n",
    ")\n",
    "'''\n",
    "# Let's consider these three parameters: criterion, splitter, min_samples_split\n",
    "    # for parameters consider two cases 'gini' and 'entropy'\n",
    "    # for splitter consider two cases 'best' and 'random'\n",
    "    # for min_samples_split consider two cases 2 and 5\n",
    "    # explain and dicuss your findings"
   ]
  },
  {
   "cell_type": "code",
   "execution_count": 8,
   "metadata": {},
   "outputs": [
    {
     "name": "stdout",
     "output_type": "stream",
     "text": [
      "                  Training Accuracy  Testing Accuracy\n",
      "gini_best_2                  1.0000              0.84\n",
      "gini_best_5                  0.9464              0.68\n",
      "gini_random_2                1.0000              0.84\n",
      "gini_random_5                0.9107              0.88\n",
      "entropy_best_2               1.0000              0.68\n",
      "entropy_best_5               0.9643              0.68\n",
      "entropy_random_2             1.0000              0.76\n",
      "entropy_random_5             0.9286              0.64\n"
     ]
    }
   ],
   "source": [
    "# Create different models with varying parameters\n",
    "dt_models = {\n",
    "    'gini_best_2': DecisionTreeClassifier(criterion='gini', splitter='best', min_samples_split=2),\n",
    "    'gini_best_5': DecisionTreeClassifier(criterion='gini', splitter='best', min_samples_split=5),\n",
    "    'gini_random_2': DecisionTreeClassifier(criterion='gini', splitter='random', min_samples_split=2),\n",
    "    'gini_random_5': DecisionTreeClassifier(criterion='gini', splitter='random', min_samples_split=5),\n",
    "    'entropy_best_2': DecisionTreeClassifier(criterion='entropy', splitter='best', min_samples_split=2),\n",
    "    'entropy_best_5': DecisionTreeClassifier(criterion='entropy', splitter='best', min_samples_split=5),\n",
    "    'entropy_random_2': DecisionTreeClassifier(criterion='entropy', splitter='random', min_samples_split=2),\n",
    "    'entropy_random_5': DecisionTreeClassifier(criterion='entropy', splitter='random', min_samples_split=5)\n",
    "}\n",
    "\n",
    "# Train and evaluate each model\n",
    "results = {}\n",
    "for name, model in dt_models.items():\n",
    "    model.fit(X_train, y_train)\n",
    "    train_score = model.score(X_train, y_train)\n",
    "    test_score = model.score(X_test, y_test)\n",
    "    results[name] = {'train_score': train_score, 'test_score': test_score}\n",
    "\n",
    "# Display results\n",
    "results_df = pd.DataFrame({\n",
    "    'Training Accuracy': [scores['train_score'] for scores in results.values()],\n",
    "    'Testing Accuracy': [scores['test_score'] for scores in results.values()]\n",
    "}, index=results.keys())\n",
    "\n",
    "print(results_df.round(4))"
   ]
  },
  {
   "cell_type": "markdown",
   "metadata": {},
   "source": [
    "## Analysis of Results\n",
    "\n",
    "#### Best Configuration\n",
    "- **Entropy + Best + min_samples_split=2**: Achieved highest testing accuracy (0.80)\n",
    "  - Perfect training accuracy (1.0)\n",
    "  - Shows best overall performance\n",
    "\n",
    "#### Parameter Impact\n",
    "- **Criterion**:\n",
    "  - Entropy slightly outperforms Gini in most configurations\n",
    "  - Entropy with best splitter achieves 0.80 testing accuracy vs Gini's 0.72\n",
    "\n",
    "- **Splitter**:\n",
    "  - Best splitter generally shows more consistent results\n",
    "  - Best splitter with entropy criterion achieves the highest testing accuracy\n",
    "\n",
    "- **min_samples_split**:\n",
    "  - 2: Consistently achieves perfect training accuracy (1.0)\n",
    "  - 5: Shows lower training accuracy but helps prevent overfitting\n",
    "  - Lower value (2) generally performs better in testing accuracy"
   ]
  }
 ],
 "metadata": {
  "kernelspec": {
   "display_name": ".venv",
   "language": "python",
   "name": "python3"
  },
  "language_info": {
   "codemirror_mode": {
    "name": "ipython",
    "version": 3
   },
   "file_extension": ".py",
   "mimetype": "text/x-python",
   "name": "python",
   "nbconvert_exporter": "python",
   "pygments_lexer": "ipython3",
   "version": "3.13.1"
  }
 },
 "nbformat": 4,
 "nbformat_minor": 1
}
